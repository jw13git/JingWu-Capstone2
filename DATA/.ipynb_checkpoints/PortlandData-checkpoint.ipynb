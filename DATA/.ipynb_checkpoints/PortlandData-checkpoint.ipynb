{
 "cells": [
  {
   "cell_type": "code",
   "execution_count": 1,
   "metadata": {},
   "outputs": [],
   "source": [
    "import pandas as pd\n",
    "import numpy as np\n",
    "import seaborn as sns\n",
    "import matplotlib.pyplot as plt"
   ]
  },
  {
   "cell_type": "code",
   "execution_count": 2,
   "metadata": {},
   "outputs": [],
   "source": [
    "# Importing all CSV files\n",
    "reviews = pd.read_csv('C:/Users/Jing/Desktop/Galvanize_Capstones/JingWu-Capstone2/DATA/reviews.csv')\n",
    "neighbourhoods = pd.read_csv('C:/Users/Jing/Desktop/Galvanize_Capstones/JingWu-Capstone2/DATA/neighbourhoods.csv')\n",
    "listings = pd.read_csv('C:/Users/Jing/Desktop/Galvanize_Capstones/JingWu-Capstone2/DATA/listings.csv')\n",
    "\n",
    "# Importing the csv.gz files\n",
    "reviews_content = pd.read_csv('C:/Users/Jing/Desktop/Galvanize_Capstones/JingWu-Capstone2/DATA/reviews.csv.gz')\n",
    "calendar_content = pd.read_csv('C:/Users/Jing/Desktop/Galvanize_Capstones/JingWu-Capstone2/DATA/calendar.csv.gz')\n"
   ]
  },
  {
   "cell_type": "code",
   "execution_count": 85,
   "metadata": {},
   "outputs": [
    {
     "data": {
      "text/html": [
       "<div>\n",
       "<style scoped>\n",
       "    .dataframe tbody tr th:only-of-type {\n",
       "        vertical-align: middle;\n",
       "    }\n",
       "\n",
       "    .dataframe tbody tr th {\n",
       "        vertical-align: top;\n",
       "    }\n",
       "\n",
       "    .dataframe thead th {\n",
       "        text-align: right;\n",
       "    }\n",
       "</style>\n",
       "<table border=\"1\" class=\"dataframe\">\n",
       "  <thead>\n",
       "    <tr style=\"text-align: right;\">\n",
       "      <th></th>\n",
       "      <th>listing_id</th>\n",
       "      <th>date</th>\n",
       "      <th>available</th>\n",
       "      <th>price</th>\n",
       "      <th>adjusted_price</th>\n",
       "      <th>minimum_nights</th>\n",
       "      <th>maximum_nights</th>\n",
       "    </tr>\n",
       "  </thead>\n",
       "  <tbody>\n",
       "    <tr>\n",
       "      <th>0</th>\n",
       "      <td>12899</td>\n",
       "      <td>2020-06-09</td>\n",
       "      <td>t</td>\n",
       "      <td>$75.00</td>\n",
       "      <td>$75.00</td>\n",
       "      <td>2.0</td>\n",
       "      <td>1125.0</td>\n",
       "    </tr>\n",
       "    <tr>\n",
       "      <th>1</th>\n",
       "      <td>12899</td>\n",
       "      <td>2020-06-10</td>\n",
       "      <td>t</td>\n",
       "      <td>$75.00</td>\n",
       "      <td>$75.00</td>\n",
       "      <td>2.0</td>\n",
       "      <td>1125.0</td>\n",
       "    </tr>\n",
       "    <tr>\n",
       "      <th>2</th>\n",
       "      <td>12899</td>\n",
       "      <td>2020-06-11</td>\n",
       "      <td>t</td>\n",
       "      <td>$75.00</td>\n",
       "      <td>$75.00</td>\n",
       "      <td>2.0</td>\n",
       "      <td>1125.0</td>\n",
       "    </tr>\n",
       "    <tr>\n",
       "      <th>3</th>\n",
       "      <td>12899</td>\n",
       "      <td>2020-06-12</td>\n",
       "      <td>t</td>\n",
       "      <td>$75.00</td>\n",
       "      <td>$75.00</td>\n",
       "      <td>2.0</td>\n",
       "      <td>1125.0</td>\n",
       "    </tr>\n",
       "    <tr>\n",
       "      <th>4</th>\n",
       "      <td>12899</td>\n",
       "      <td>2020-06-13</td>\n",
       "      <td>t</td>\n",
       "      <td>$75.00</td>\n",
       "      <td>$75.00</td>\n",
       "      <td>2.0</td>\n",
       "      <td>1125.0</td>\n",
       "    </tr>\n",
       "    <tr>\n",
       "      <th>...</th>\n",
       "      <td>...</td>\n",
       "      <td>...</td>\n",
       "      <td>...</td>\n",
       "      <td>...</td>\n",
       "      <td>...</td>\n",
       "      <td>...</td>\n",
       "      <td>...</td>\n",
       "    </tr>\n",
       "    <tr>\n",
       "      <th>1588500</th>\n",
       "      <td>43381640</td>\n",
       "      <td>2021-06-04</td>\n",
       "      <td>t</td>\n",
       "      <td>$271.00</td>\n",
       "      <td>$271.00</td>\n",
       "      <td>2.0</td>\n",
       "      <td>1125.0</td>\n",
       "    </tr>\n",
       "    <tr>\n",
       "      <th>1588501</th>\n",
       "      <td>43381640</td>\n",
       "      <td>2021-06-05</td>\n",
       "      <td>t</td>\n",
       "      <td>$292.00</td>\n",
       "      <td>$292.00</td>\n",
       "      <td>2.0</td>\n",
       "      <td>1125.0</td>\n",
       "    </tr>\n",
       "    <tr>\n",
       "      <th>1588502</th>\n",
       "      <td>43381640</td>\n",
       "      <td>2021-06-06</td>\n",
       "      <td>t</td>\n",
       "      <td>$219.00</td>\n",
       "      <td>$219.00</td>\n",
       "      <td>2.0</td>\n",
       "      <td>1125.0</td>\n",
       "    </tr>\n",
       "    <tr>\n",
       "      <th>1588503</th>\n",
       "      <td>43381640</td>\n",
       "      <td>2021-06-07</td>\n",
       "      <td>t</td>\n",
       "      <td>$184.00</td>\n",
       "      <td>$184.00</td>\n",
       "      <td>2.0</td>\n",
       "      <td>1125.0</td>\n",
       "    </tr>\n",
       "    <tr>\n",
       "      <th>1588504</th>\n",
       "      <td>43381640</td>\n",
       "      <td>2021-06-08</td>\n",
       "      <td>t</td>\n",
       "      <td>$186.00</td>\n",
       "      <td>$186.00</td>\n",
       "      <td>2.0</td>\n",
       "      <td>1125.0</td>\n",
       "    </tr>\n",
       "  </tbody>\n",
       "</table>\n",
       "<p>673710 rows × 7 columns</p>\n",
       "</div>"
      ],
      "text/plain": [
       "         listing_id        date available    price adjusted_price  \\\n",
       "0             12899  2020-06-09         t   $75.00         $75.00   \n",
       "1             12899  2020-06-10         t   $75.00         $75.00   \n",
       "2             12899  2020-06-11         t   $75.00         $75.00   \n",
       "3             12899  2020-06-12         t   $75.00         $75.00   \n",
       "4             12899  2020-06-13         t   $75.00         $75.00   \n",
       "...             ...         ...       ...      ...            ...   \n",
       "1588500    43381640  2021-06-04         t  $271.00        $271.00   \n",
       "1588501    43381640  2021-06-05         t  $292.00        $292.00   \n",
       "1588502    43381640  2021-06-06         t  $219.00        $219.00   \n",
       "1588503    43381640  2021-06-07         t  $184.00        $184.00   \n",
       "1588504    43381640  2021-06-08         t  $186.00        $186.00   \n",
       "\n",
       "         minimum_nights  maximum_nights  \n",
       "0                   2.0          1125.0  \n",
       "1                   2.0          1125.0  \n",
       "2                   2.0          1125.0  \n",
       "3                   2.0          1125.0  \n",
       "4                   2.0          1125.0  \n",
       "...                 ...             ...  \n",
       "1588500             2.0          1125.0  \n",
       "1588501             2.0          1125.0  \n",
       "1588502             2.0          1125.0  \n",
       "1588503             2.0          1125.0  \n",
       "1588504             2.0          1125.0  \n",
       "\n",
       "[673710 rows x 7 columns]"
      ]
     },
     "execution_count": 85,
     "metadata": {},
     "output_type": "execute_result"
    }
   ],
   "source": [
    "# Table where available is false\n",
    "x = calendar_content.loc[calendar_content.available == 't']\n",
    "x\n",
    "x.date.value_counts().sort_index(axis=0)\n",
    "# 3369 on June 9th were booked. looks like it's sorted by value counts\n",
    "# count is 366, counting dates just over one year\n",
    "# df = pd.DataFrame({'a':list('abssbab')})df.groupby('a').count()"
   ]
  },
  {
   "cell_type": "code",
   "execution_count": 53,
   "metadata": {},
   "outputs": [
    {
     "name": "stdout",
     "output_type": "stream",
     "text": [
      "<class 'pandas.core.frame.DataFrame'>\n",
      "RangeIndex: 1588505 entries, 0 to 1588504\n",
      "Data columns (total 7 columns):\n",
      " #   Column          Non-Null Count    Dtype  \n",
      "---  ------          --------------    -----  \n",
      " 0   listing_id      1588505 non-null  int64  \n",
      " 1   date            1588505 non-null  object \n",
      " 2   available       1588505 non-null  object \n",
      " 3   price           1588334 non-null  object \n",
      " 4   adjusted_price  1588334 non-null  object \n",
      " 5   minimum_nights  1588499 non-null  float64\n",
      " 6   maximum_nights  1588499 non-null  float64\n",
      "dtypes: float64(2), int64(1), object(4)\n",
      "memory usage: 84.8+ MB\n"
     ]
    }
   ],
   "source": [
    "calendar_content.head()\n",
    "calendar_content.info()"
   ]
  },
  {
   "cell_type": "code",
   "execution_count": 44,
   "metadata": {},
   "outputs": [
    {
     "ename": "AttributeError",
     "evalue": "'DataFrame' object has no attribute 'value_counts'",
     "output_type": "error",
     "traceback": [
      "\u001b[1;31m---------------------------------------------------------------------------\u001b[0m",
      "\u001b[1;31mAttributeError\u001b[0m                            Traceback (most recent call last)",
      "\u001b[1;32m<ipython-input-44-b7ce95367bf5>\u001b[0m in \u001b[0;36m<module>\u001b[1;34m\u001b[0m\n\u001b[1;32m----> 1\u001b[1;33m \u001b[0mcalendar_content\u001b[0m\u001b[1;33m.\u001b[0m\u001b[0mloc\u001b[0m\u001b[1;33m[\u001b[0m\u001b[0mcalendar_content\u001b[0m\u001b[1;33m.\u001b[0m\u001b[0mavailable\u001b[0m \u001b[1;33m==\u001b[0m \u001b[1;34m'f'\u001b[0m\u001b[1;33m]\u001b[0m\u001b[1;33m.\u001b[0m\u001b[0mvalue_counts\u001b[0m\u001b[1;33m(\u001b[0m\u001b[1;33m)\u001b[0m\u001b[1;33m\u001b[0m\u001b[1;33m\u001b[0m\u001b[0m\n\u001b[0m",
      "\u001b[1;32m~\\miniconda3\\lib\\site-packages\\pandas\\core\\generic.py\u001b[0m in \u001b[0;36m__getattr__\u001b[1;34m(self, name)\u001b[0m\n\u001b[0;32m   5272\u001b[0m             \u001b[1;32mif\u001b[0m \u001b[0mself\u001b[0m\u001b[1;33m.\u001b[0m\u001b[0m_info_axis\u001b[0m\u001b[1;33m.\u001b[0m\u001b[0m_can_hold_identifiers_and_holds_name\u001b[0m\u001b[1;33m(\u001b[0m\u001b[0mname\u001b[0m\u001b[1;33m)\u001b[0m\u001b[1;33m:\u001b[0m\u001b[1;33m\u001b[0m\u001b[1;33m\u001b[0m\u001b[0m\n\u001b[0;32m   5273\u001b[0m                 \u001b[1;32mreturn\u001b[0m \u001b[0mself\u001b[0m\u001b[1;33m[\u001b[0m\u001b[0mname\u001b[0m\u001b[1;33m]\u001b[0m\u001b[1;33m\u001b[0m\u001b[1;33m\u001b[0m\u001b[0m\n\u001b[1;32m-> 5274\u001b[1;33m             \u001b[1;32mreturn\u001b[0m \u001b[0mobject\u001b[0m\u001b[1;33m.\u001b[0m\u001b[0m__getattribute__\u001b[0m\u001b[1;33m(\u001b[0m\u001b[0mself\u001b[0m\u001b[1;33m,\u001b[0m \u001b[0mname\u001b[0m\u001b[1;33m)\u001b[0m\u001b[1;33m\u001b[0m\u001b[1;33m\u001b[0m\u001b[0m\n\u001b[0m\u001b[0;32m   5275\u001b[0m \u001b[1;33m\u001b[0m\u001b[0m\n\u001b[0;32m   5276\u001b[0m     \u001b[1;32mdef\u001b[0m \u001b[0m__setattr__\u001b[0m\u001b[1;33m(\u001b[0m\u001b[0mself\u001b[0m\u001b[1;33m,\u001b[0m \u001b[0mname\u001b[0m\u001b[1;33m:\u001b[0m \u001b[0mstr\u001b[0m\u001b[1;33m,\u001b[0m \u001b[0mvalue\u001b[0m\u001b[1;33m)\u001b[0m \u001b[1;33m->\u001b[0m \u001b[1;32mNone\u001b[0m\u001b[1;33m:\u001b[0m\u001b[1;33m\u001b[0m\u001b[1;33m\u001b[0m\u001b[0m\n",
      "\u001b[1;31mAttributeError\u001b[0m: 'DataFrame' object has no attribute 'value_counts'"
     ]
    }
   ],
   "source": []
  },
  {
   "cell_type": "code",
   "execution_count": 75,
   "metadata": {},
   "outputs": [
    {
     "data": {
      "text/plain": [
       "544"
      ]
     },
     "execution_count": 75,
     "metadata": {},
     "output_type": "execute_result"
    }
   ],
   "source": [
    "# import gzip\n",
    "# with gzip.open('listings.csv.gz') as l:\n",
    "#     listings_content = l.read()\n",
    "len(reviews_content.loc[reviews_content.listing_id == 12899])\n",
    "# id means no clue, but this includes all the reviews for one listing"
   ]
  },
  {
   "cell_type": "code",
   "execution_count": 74,
   "metadata": {},
   "outputs": [
    {
     "data": {
      "text/html": [
       "<div>\n",
       "<style scoped>\n",
       "    .dataframe tbody tr th:only-of-type {\n",
       "        vertical-align: middle;\n",
       "    }\n",
       "\n",
       "    .dataframe tbody tr th {\n",
       "        vertical-align: top;\n",
       "    }\n",
       "\n",
       "    .dataframe thead th {\n",
       "        text-align: right;\n",
       "    }\n",
       "</style>\n",
       "<table border=\"1\" class=\"dataframe\">\n",
       "  <thead>\n",
       "    <tr style=\"text-align: right;\">\n",
       "      <th></th>\n",
       "      <th>id</th>\n",
       "      <th>name</th>\n",
       "      <th>host_id</th>\n",
       "      <th>host_name</th>\n",
       "      <th>neighbourhood_group</th>\n",
       "      <th>neighbourhood</th>\n",
       "      <th>latitude</th>\n",
       "      <th>longitude</th>\n",
       "      <th>room_type</th>\n",
       "      <th>price</th>\n",
       "      <th>minimum_nights</th>\n",
       "      <th>number_of_reviews</th>\n",
       "      <th>last_review</th>\n",
       "      <th>reviews_per_month</th>\n",
       "      <th>calculated_host_listings_count</th>\n",
       "      <th>availability_365</th>\n",
       "    </tr>\n",
       "  </thead>\n",
       "  <tbody>\n",
       "    <tr>\n",
       "      <th>0</th>\n",
       "      <td>12899</td>\n",
       "      <td>Alberta Arts 2 bedroom suite, charming 1906 house</td>\n",
       "      <td>49682</td>\n",
       "      <td>Ali And David</td>\n",
       "      <td>NaN</td>\n",
       "      <td>Concordia</td>\n",
       "      <td>45.56488</td>\n",
       "      <td>-122.63418</td>\n",
       "      <td>Entire home/apt</td>\n",
       "      <td>75</td>\n",
       "      <td>2</td>\n",
       "      <td>544</td>\n",
       "      <td>2020-04-22</td>\n",
       "      <td>4.31</td>\n",
       "      <td>1</td>\n",
       "      <td>343</td>\n",
       "    </tr>\n",
       "  </tbody>\n",
       "</table>\n",
       "</div>"
      ],
      "text/plain": [
       "      id                                               name  host_id  \\\n",
       "0  12899  Alberta Arts 2 bedroom suite, charming 1906 house    49682   \n",
       "\n",
       "       host_name  neighbourhood_group neighbourhood  latitude  longitude  \\\n",
       "0  Ali And David                  NaN     Concordia  45.56488 -122.63418   \n",
       "\n",
       "         room_type  price  minimum_nights  number_of_reviews last_review  \\\n",
       "0  Entire home/apt     75               2                544  2020-04-22   \n",
       "\n",
       "   reviews_per_month  calculated_host_listings_count  availability_365  \n",
       "0               4.31                               1               343  "
      ]
     },
     "execution_count": 74,
     "metadata": {},
     "output_type": "execute_result"
    }
   ],
   "source": [
    "# import gzip\n",
    "# with gzip.open('calendar.csv.gz') as c:\n",
    "#     calendar_content = c.read()\n",
    "listings.loc[listings.id == 12899]\n",
    "# listings.id = review_content.listing_id WHEN DOING JOIN"
   ]
  },
  {
   "cell_type": "markdown",
   "metadata": {},
   "source": [
    "### Exploring Reviews dataset"
   ]
  },
  {
   "cell_type": "code",
   "execution_count": 6,
   "metadata": {},
   "outputs": [
    {
     "data": {
      "text/html": [
       "<div>\n",
       "<style scoped>\n",
       "    .dataframe tbody tr th:only-of-type {\n",
       "        vertical-align: middle;\n",
       "    }\n",
       "\n",
       "    .dataframe tbody tr th {\n",
       "        vertical-align: top;\n",
       "    }\n",
       "\n",
       "    .dataframe thead th {\n",
       "        text-align: right;\n",
       "    }\n",
       "</style>\n",
       "<table border=\"1\" class=\"dataframe\">\n",
       "  <thead>\n",
       "    <tr style=\"text-align: right;\">\n",
       "      <th></th>\n",
       "      <th>listing_id</th>\n",
       "      <th>date</th>\n",
       "    </tr>\n",
       "  </thead>\n",
       "  <tbody>\n",
       "    <tr>\n",
       "      <th>0</th>\n",
       "      <td>12899</td>\n",
       "      <td>2010-01-24</td>\n",
       "    </tr>\n",
       "    <tr>\n",
       "      <th>1</th>\n",
       "      <td>12899</td>\n",
       "      <td>2010-03-13</td>\n",
       "    </tr>\n",
       "    <tr>\n",
       "      <th>2</th>\n",
       "      <td>12899</td>\n",
       "      <td>2010-03-16</td>\n",
       "    </tr>\n",
       "    <tr>\n",
       "      <th>3</th>\n",
       "      <td>12899</td>\n",
       "      <td>2010-03-31</td>\n",
       "    </tr>\n",
       "    <tr>\n",
       "      <th>4</th>\n",
       "      <td>12899</td>\n",
       "      <td>2010-04-02</td>\n",
       "    </tr>\n",
       "  </tbody>\n",
       "</table>\n",
       "</div>"
      ],
      "text/plain": [
       "   listing_id        date\n",
       "0       12899  2010-01-24\n",
       "1       12899  2010-03-13\n",
       "2       12899  2010-03-16\n",
       "3       12899  2010-03-31\n",
       "4       12899  2010-04-02"
      ]
     },
     "execution_count": 6,
     "metadata": {},
     "output_type": "execute_result"
    }
   ],
   "source": [
    "reviews.head()"
   ]
  },
  {
   "cell_type": "code",
   "execution_count": 7,
   "metadata": {},
   "outputs": [
    {
     "data": {
      "text/plain": [
       "Index(['listing_id', 'date'], dtype='object')"
      ]
     },
     "execution_count": 7,
     "metadata": {},
     "output_type": "execute_result"
    }
   ],
   "source": [
    "reviews.columns"
   ]
  },
  {
   "cell_type": "code",
   "execution_count": 9,
   "metadata": {},
   "outputs": [
    {
     "data": {
      "text/plain": [
       "(353566, 2)"
      ]
     },
     "execution_count": 9,
     "metadata": {},
     "output_type": "execute_result"
    }
   ],
   "source": [
    "reviews.shape"
   ]
  },
  {
   "cell_type": "code",
   "execution_count": 12,
   "metadata": {},
   "outputs": [
    {
     "data": {
      "text/html": [
       "<div>\n",
       "<style scoped>\n",
       "    .dataframe tbody tr th:only-of-type {\n",
       "        vertical-align: middle;\n",
       "    }\n",
       "\n",
       "    .dataframe tbody tr th {\n",
       "        vertical-align: top;\n",
       "    }\n",
       "\n",
       "    .dataframe thead th {\n",
       "        text-align: right;\n",
       "    }\n",
       "</style>\n",
       "<table border=\"1\" class=\"dataframe\">\n",
       "  <thead>\n",
       "    <tr style=\"text-align: right;\">\n",
       "      <th></th>\n",
       "      <th>listing_id</th>\n",
       "      <th>date</th>\n",
       "    </tr>\n",
       "  </thead>\n",
       "  <tbody>\n",
       "    <tr>\n",
       "      <th>353561</th>\n",
       "      <td>43381333</td>\n",
       "      <td>2020-05-31</td>\n",
       "    </tr>\n",
       "    <tr>\n",
       "      <th>353562</th>\n",
       "      <td>43381333</td>\n",
       "      <td>2020-06-01</td>\n",
       "    </tr>\n",
       "    <tr>\n",
       "      <th>353563</th>\n",
       "      <td>43381333</td>\n",
       "      <td>2020-06-07</td>\n",
       "    </tr>\n",
       "    <tr>\n",
       "      <th>353564</th>\n",
       "      <td>43452673</td>\n",
       "      <td>2020-05-17</td>\n",
       "    </tr>\n",
       "    <tr>\n",
       "      <th>353565</th>\n",
       "      <td>43605048</td>\n",
       "      <td>2020-06-01</td>\n",
       "    </tr>\n",
       "  </tbody>\n",
       "</table>\n",
       "</div>"
      ],
      "text/plain": [
       "        listing_id        date\n",
       "353561    43381333  2020-05-31\n",
       "353562    43381333  2020-06-01\n",
       "353563    43381333  2020-06-07\n",
       "353564    43452673  2020-05-17\n",
       "353565    43605048  2020-06-01"
      ]
     },
     "execution_count": 12,
     "metadata": {},
     "output_type": "execute_result"
    }
   ],
   "source": [
    "reviews.tail()\n",
    "# could group by listing_id, find difference between dates to see how much time was between each bookings"
   ]
  },
  {
   "cell_type": "markdown",
   "metadata": {},
   "source": [
    "### Exploring neighbourhoods dataset"
   ]
  },
  {
   "cell_type": "code",
   "execution_count": 13,
   "metadata": {},
   "outputs": [
    {
     "data": {
      "text/html": [
       "<div>\n",
       "<style scoped>\n",
       "    .dataframe tbody tr th:only-of-type {\n",
       "        vertical-align: middle;\n",
       "    }\n",
       "\n",
       "    .dataframe tbody tr th {\n",
       "        vertical-align: top;\n",
       "    }\n",
       "\n",
       "    .dataframe thead th {\n",
       "        text-align: right;\n",
       "    }\n",
       "</style>\n",
       "<table border=\"1\" class=\"dataframe\">\n",
       "  <thead>\n",
       "    <tr style=\"text-align: right;\">\n",
       "      <th></th>\n",
       "      <th>neighbourhood_group</th>\n",
       "      <th>neighbourhood</th>\n",
       "    </tr>\n",
       "  </thead>\n",
       "  <tbody>\n",
       "    <tr>\n",
       "      <th>0</th>\n",
       "      <td>NaN</td>\n",
       "      <td>Alameda</td>\n",
       "    </tr>\n",
       "    <tr>\n",
       "      <th>1</th>\n",
       "      <td>NaN</td>\n",
       "      <td>Arbor Lodge</td>\n",
       "    </tr>\n",
       "    <tr>\n",
       "      <th>2</th>\n",
       "      <td>NaN</td>\n",
       "      <td>Ardenwald-Johnson Creek</td>\n",
       "    </tr>\n",
       "    <tr>\n",
       "      <th>3</th>\n",
       "      <td>NaN</td>\n",
       "      <td>Argay</td>\n",
       "    </tr>\n",
       "    <tr>\n",
       "      <th>4</th>\n",
       "      <td>NaN</td>\n",
       "      <td>Arlington Heights</td>\n",
       "    </tr>\n",
       "  </tbody>\n",
       "</table>\n",
       "</div>"
      ],
      "text/plain": [
       "   neighbourhood_group            neighbourhood\n",
       "0                  NaN                  Alameda\n",
       "1                  NaN              Arbor Lodge\n",
       "2                  NaN  Ardenwald-Johnson Creek\n",
       "3                  NaN                    Argay\n",
       "4                  NaN        Arlington Heights"
      ]
     },
     "execution_count": 13,
     "metadata": {},
     "output_type": "execute_result"
    }
   ],
   "source": [
    "neighbourhoods.head()"
   ]
  },
  {
   "cell_type": "code",
   "execution_count": 14,
   "metadata": {},
   "outputs": [
    {
     "data": {
      "text/html": [
       "<div>\n",
       "<style scoped>\n",
       "    .dataframe tbody tr th:only-of-type {\n",
       "        vertical-align: middle;\n",
       "    }\n",
       "\n",
       "    .dataframe tbody tr th {\n",
       "        vertical-align: top;\n",
       "    }\n",
       "\n",
       "    .dataframe thead th {\n",
       "        text-align: right;\n",
       "    }\n",
       "</style>\n",
       "<table border=\"1\" class=\"dataframe\">\n",
       "  <thead>\n",
       "    <tr style=\"text-align: right;\">\n",
       "      <th></th>\n",
       "      <th>neighbourhood_group</th>\n",
       "      <th>neighbourhood</th>\n",
       "    </tr>\n",
       "  </thead>\n",
       "  <tbody>\n",
       "    <tr>\n",
       "      <th>90</th>\n",
       "      <td>NaN</td>\n",
       "      <td>West Portland Park</td>\n",
       "    </tr>\n",
       "    <tr>\n",
       "      <th>91</th>\n",
       "      <td>NaN</td>\n",
       "      <td>Wilkes</td>\n",
       "    </tr>\n",
       "    <tr>\n",
       "      <th>92</th>\n",
       "      <td>NaN</td>\n",
       "      <td>Woodland Park</td>\n",
       "    </tr>\n",
       "    <tr>\n",
       "      <th>93</th>\n",
       "      <td>NaN</td>\n",
       "      <td>Woodlawn</td>\n",
       "    </tr>\n",
       "    <tr>\n",
       "      <th>94</th>\n",
       "      <td>NaN</td>\n",
       "      <td>Woodstock</td>\n",
       "    </tr>\n",
       "  </tbody>\n",
       "</table>\n",
       "</div>"
      ],
      "text/plain": [
       "    neighbourhood_group       neighbourhood\n",
       "90                  NaN  West Portland Park\n",
       "91                  NaN              Wilkes\n",
       "92                  NaN       Woodland Park\n",
       "93                  NaN            Woodlawn\n",
       "94                  NaN           Woodstock"
      ]
     },
     "execution_count": 14,
     "metadata": {},
     "output_type": "execute_result"
    }
   ],
   "source": [
    "neighbourhoods.tail()"
   ]
  },
  {
   "cell_type": "code",
   "execution_count": 15,
   "metadata": {},
   "outputs": [
    {
     "data": {
      "text/plain": [
       "Index(['neighbourhood_group', 'neighbourhood'], dtype='object')"
      ]
     },
     "execution_count": 15,
     "metadata": {},
     "output_type": "execute_result"
    }
   ],
   "source": [
    "neighbourhoods.columns"
   ]
  },
  {
   "cell_type": "code",
   "execution_count": 22,
   "metadata": {},
   "outputs": [
    {
     "data": {
      "text/plain": [
       "(95, 2)"
      ]
     },
     "execution_count": 22,
     "metadata": {},
     "output_type": "execute_result"
    }
   ],
   "source": [
    "neighbourhoods.shape"
   ]
  },
  {
   "cell_type": "code",
   "execution_count": 24,
   "metadata": {},
   "outputs": [
    {
     "data": {
      "text/plain": [
       "Series([], Name: neighbourhood_group, dtype: int64)"
      ]
     },
     "execution_count": 24,
     "metadata": {},
     "output_type": "execute_result"
    }
   ],
   "source": [
    "neighbourhoods.neighbourhood_group.value_counts()"
   ]
  },
  {
   "cell_type": "code",
   "execution_count": 21,
   "metadata": {},
   "outputs": [
    {
     "data": {
      "text/html": [
       "<div>\n",
       "<style scoped>\n",
       "    .dataframe tbody tr th:only-of-type {\n",
       "        vertical-align: middle;\n",
       "    }\n",
       "\n",
       "    .dataframe tbody tr th {\n",
       "        vertical-align: top;\n",
       "    }\n",
       "\n",
       "    .dataframe thead th {\n",
       "        text-align: right;\n",
       "    }\n",
       "</style>\n",
       "<table border=\"1\" class=\"dataframe\">\n",
       "  <thead>\n",
       "    <tr style=\"text-align: right;\">\n",
       "      <th></th>\n",
       "      <th>neighbourhood_group</th>\n",
       "      <th>neighbourhood</th>\n",
       "    </tr>\n",
       "  </thead>\n",
       "  <tbody>\n",
       "    <tr>\n",
       "      <th>0</th>\n",
       "      <td>NaN</td>\n",
       "      <td>Alameda</td>\n",
       "    </tr>\n",
       "    <tr>\n",
       "      <th>1</th>\n",
       "      <td>NaN</td>\n",
       "      <td>Arbor Lodge</td>\n",
       "    </tr>\n",
       "    <tr>\n",
       "      <th>2</th>\n",
       "      <td>NaN</td>\n",
       "      <td>Ardenwald-Johnson Creek</td>\n",
       "    </tr>\n",
       "    <tr>\n",
       "      <th>3</th>\n",
       "      <td>NaN</td>\n",
       "      <td>Argay</td>\n",
       "    </tr>\n",
       "    <tr>\n",
       "      <th>4</th>\n",
       "      <td>NaN</td>\n",
       "      <td>Arlington Heights</td>\n",
       "    </tr>\n",
       "    <tr>\n",
       "      <th>...</th>\n",
       "      <td>...</td>\n",
       "      <td>...</td>\n",
       "    </tr>\n",
       "    <tr>\n",
       "      <th>90</th>\n",
       "      <td>NaN</td>\n",
       "      <td>West Portland Park</td>\n",
       "    </tr>\n",
       "    <tr>\n",
       "      <th>91</th>\n",
       "      <td>NaN</td>\n",
       "      <td>Wilkes</td>\n",
       "    </tr>\n",
       "    <tr>\n",
       "      <th>92</th>\n",
       "      <td>NaN</td>\n",
       "      <td>Woodland Park</td>\n",
       "    </tr>\n",
       "    <tr>\n",
       "      <th>93</th>\n",
       "      <td>NaN</td>\n",
       "      <td>Woodlawn</td>\n",
       "    </tr>\n",
       "    <tr>\n",
       "      <th>94</th>\n",
       "      <td>NaN</td>\n",
       "      <td>Woodstock</td>\n",
       "    </tr>\n",
       "  </tbody>\n",
       "</table>\n",
       "<p>95 rows × 2 columns</p>\n",
       "</div>"
      ],
      "text/plain": [
       "    neighbourhood_group            neighbourhood\n",
       "0                   NaN                  Alameda\n",
       "1                   NaN              Arbor Lodge\n",
       "2                   NaN  Ardenwald-Johnson Creek\n",
       "3                   NaN                    Argay\n",
       "4                   NaN        Arlington Heights\n",
       "..                  ...                      ...\n",
       "90                  NaN       West Portland Park\n",
       "91                  NaN                   Wilkes\n",
       "92                  NaN            Woodland Park\n",
       "93                  NaN                 Woodlawn\n",
       "94                  NaN                Woodstock\n",
       "\n",
       "[95 rows x 2 columns]"
      ]
     },
     "execution_count": 21,
     "metadata": {},
     "output_type": "execute_result"
    }
   ],
   "source": [
    "# seems like everything in neighbourhood_group is null. May keep the column, could group them into neighbourhoods\n",
    "neighbourhoods.loc[neighbourhoods.neighbourhood_group.isna()]"
   ]
  },
  {
   "cell_type": "code",
   "execution_count": 31,
   "metadata": {},
   "outputs": [],
   "source": [
    "# pd.options.display.max_rows = 999\n",
    "\n",
    "# neighbourhoods"
   ]
  },
  {
   "cell_type": "markdown",
   "metadata": {},
   "source": [
    "### Exploring listings dataset"
   ]
  },
  {
   "cell_type": "code",
   "execution_count": 32,
   "metadata": {},
   "outputs": [
    {
     "data": {
      "text/plain": [
       "Index(['id', 'name', 'host_id', 'host_name', 'neighbourhood_group',\n",
       "       'neighbourhood', 'latitude', 'longitude', 'room_type', 'price',\n",
       "       'minimum_nights', 'number_of_reviews', 'last_review',\n",
       "       'reviews_per_month', 'calculated_host_listings_count',\n",
       "       'availability_365'],\n",
       "      dtype='object')"
      ]
     },
     "execution_count": 32,
     "metadata": {},
     "output_type": "execute_result"
    }
   ],
   "source": [
    "listings.columns"
   ]
  },
  {
   "cell_type": "code",
   "execution_count": 33,
   "metadata": {},
   "outputs": [
    {
     "data": {
      "text/html": [
       "<div>\n",
       "<style scoped>\n",
       "    .dataframe tbody tr th:only-of-type {\n",
       "        vertical-align: middle;\n",
       "    }\n",
       "\n",
       "    .dataframe tbody tr th {\n",
       "        vertical-align: top;\n",
       "    }\n",
       "\n",
       "    .dataframe thead th {\n",
       "        text-align: right;\n",
       "    }\n",
       "</style>\n",
       "<table border=\"1\" class=\"dataframe\">\n",
       "  <thead>\n",
       "    <tr style=\"text-align: right;\">\n",
       "      <th></th>\n",
       "      <th>id</th>\n",
       "      <th>name</th>\n",
       "      <th>host_id</th>\n",
       "      <th>host_name</th>\n",
       "      <th>neighbourhood_group</th>\n",
       "      <th>neighbourhood</th>\n",
       "      <th>latitude</th>\n",
       "      <th>longitude</th>\n",
       "      <th>room_type</th>\n",
       "      <th>price</th>\n",
       "      <th>minimum_nights</th>\n",
       "      <th>number_of_reviews</th>\n",
       "      <th>last_review</th>\n",
       "      <th>reviews_per_month</th>\n",
       "      <th>calculated_host_listings_count</th>\n",
       "      <th>availability_365</th>\n",
       "    </tr>\n",
       "  </thead>\n",
       "  <tbody>\n",
       "    <tr>\n",
       "      <th>0</th>\n",
       "      <td>12899</td>\n",
       "      <td>Alberta Arts 2 bedroom suite, charming 1906 house</td>\n",
       "      <td>49682</td>\n",
       "      <td>Ali And David</td>\n",
       "      <td>NaN</td>\n",
       "      <td>Concordia</td>\n",
       "      <td>45.56488</td>\n",
       "      <td>-122.63418</td>\n",
       "      <td>Entire home/apt</td>\n",
       "      <td>75</td>\n",
       "      <td>2</td>\n",
       "      <td>544</td>\n",
       "      <td>2020-04-22</td>\n",
       "      <td>4.31</td>\n",
       "      <td>1</td>\n",
       "      <td>343</td>\n",
       "    </tr>\n",
       "    <tr>\n",
       "      <th>1</th>\n",
       "      <td>16688</td>\n",
       "      <td>Beautiful condo in downtown Pearl, NW Portland</td>\n",
       "      <td>64840</td>\n",
       "      <td>Ashish</td>\n",
       "      <td>NaN</td>\n",
       "      <td>Pearl</td>\n",
       "      <td>45.52542</td>\n",
       "      <td>-122.68557</td>\n",
       "      <td>Entire home/apt</td>\n",
       "      <td>275</td>\n",
       "      <td>2</td>\n",
       "      <td>82</td>\n",
       "      <td>2020-03-19</td>\n",
       "      <td>2.16</td>\n",
       "      <td>1</td>\n",
       "      <td>354</td>\n",
       "    </tr>\n",
       "    <tr>\n",
       "      <th>2</th>\n",
       "      <td>29931</td>\n",
       "      <td>Lovely SW Victorian w/Bonus Room and Hot Tub</td>\n",
       "      <td>79786</td>\n",
       "      <td>Ken</td>\n",
       "      <td>NaN</td>\n",
       "      <td>Hayhurst</td>\n",
       "      <td>45.48278</td>\n",
       "      <td>-122.72089</td>\n",
       "      <td>Entire home/apt</td>\n",
       "      <td>200</td>\n",
       "      <td>2</td>\n",
       "      <td>53</td>\n",
       "      <td>2019-08-31</td>\n",
       "      <td>0.44</td>\n",
       "      <td>3</td>\n",
       "      <td>8</td>\n",
       "    </tr>\n",
       "    <tr>\n",
       "      <th>3</th>\n",
       "      <td>37676</td>\n",
       "      <td>Mt. Hood View in the Pearl District</td>\n",
       "      <td>162158</td>\n",
       "      <td>Paul</td>\n",
       "      <td>NaN</td>\n",
       "      <td>Pearl</td>\n",
       "      <td>45.52555</td>\n",
       "      <td>-122.68193</td>\n",
       "      <td>Entire home/apt</td>\n",
       "      <td>125</td>\n",
       "      <td>30</td>\n",
       "      <td>123</td>\n",
       "      <td>2019-10-11</td>\n",
       "      <td>1.02</td>\n",
       "      <td>2</td>\n",
       "      <td>365</td>\n",
       "    </tr>\n",
       "    <tr>\n",
       "      <th>4</th>\n",
       "      <td>39938</td>\n",
       "      <td>Friendly Guesthouse / 10 Min to Airport &amp; Down...</td>\n",
       "      <td>171371</td>\n",
       "      <td>Sarah</td>\n",
       "      <td>NaN</td>\n",
       "      <td>Woodlawn</td>\n",
       "      <td>45.57428</td>\n",
       "      <td>-122.64594</td>\n",
       "      <td>Private room</td>\n",
       "      <td>29</td>\n",
       "      <td>30</td>\n",
       "      <td>274</td>\n",
       "      <td>2019-11-18</td>\n",
       "      <td>4.29</td>\n",
       "      <td>3</td>\n",
       "      <td>90</td>\n",
       "    </tr>\n",
       "  </tbody>\n",
       "</table>\n",
       "</div>"
      ],
      "text/plain": [
       "      id                                               name  host_id  \\\n",
       "0  12899  Alberta Arts 2 bedroom suite, charming 1906 house    49682   \n",
       "1  16688     Beautiful condo in downtown Pearl, NW Portland    64840   \n",
       "2  29931       Lovely SW Victorian w/Bonus Room and Hot Tub    79786   \n",
       "3  37676                Mt. Hood View in the Pearl District   162158   \n",
       "4  39938  Friendly Guesthouse / 10 Min to Airport & Down...   171371   \n",
       "\n",
       "       host_name  neighbourhood_group neighbourhood  latitude  longitude  \\\n",
       "0  Ali And David                  NaN     Concordia  45.56488 -122.63418   \n",
       "1         Ashish                  NaN         Pearl  45.52542 -122.68557   \n",
       "2            Ken                  NaN      Hayhurst  45.48278 -122.72089   \n",
       "3           Paul                  NaN         Pearl  45.52555 -122.68193   \n",
       "4          Sarah                  NaN      Woodlawn  45.57428 -122.64594   \n",
       "\n",
       "         room_type  price  minimum_nights  number_of_reviews last_review  \\\n",
       "0  Entire home/apt     75               2                544  2020-04-22   \n",
       "1  Entire home/apt    275               2                 82  2020-03-19   \n",
       "2  Entire home/apt    200               2                 53  2019-08-31   \n",
       "3  Entire home/apt    125              30                123  2019-10-11   \n",
       "4     Private room     29              30                274  2019-11-18   \n",
       "\n",
       "   reviews_per_month  calculated_host_listings_count  availability_365  \n",
       "0               4.31                               1               343  \n",
       "1               2.16                               1               354  \n",
       "2               0.44                               3                 8  \n",
       "3               1.02                               2               365  \n",
       "4               4.29                               3                90  "
      ]
     },
     "execution_count": 33,
     "metadata": {},
     "output_type": "execute_result"
    }
   ],
   "source": [
    "listings.head()"
   ]
  },
  {
   "cell_type": "code",
   "execution_count": null,
   "metadata": {},
   "outputs": [],
   "source": []
  },
  {
   "cell_type": "code",
   "execution_count": null,
   "metadata": {},
   "outputs": [],
   "source": []
  },
  {
   "cell_type": "code",
   "execution_count": null,
   "metadata": {},
   "outputs": [],
   "source": []
  },
  {
   "cell_type": "code",
   "execution_count": null,
   "metadata": {},
   "outputs": [],
   "source": []
  }
 ],
 "metadata": {
  "kernelspec": {
   "display_name": "Python 3",
   "language": "python",
   "name": "python3"
  },
  "language_info": {
   "codemirror_mode": {
    "name": "ipython",
    "version": 3
   },
   "file_extension": ".py",
   "mimetype": "text/x-python",
   "name": "python",
   "nbconvert_exporter": "python",
   "pygments_lexer": "ipython3",
   "version": "3.7.7"
  }
 },
 "nbformat": 4,
 "nbformat_minor": 4
}
