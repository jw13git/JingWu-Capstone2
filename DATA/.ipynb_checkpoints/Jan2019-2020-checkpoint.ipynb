{
 "cells": [
  {
   "cell_type": "code",
   "execution_count": 1,
   "metadata": {},
   "outputs": [],
   "source": [
    "import pandas as pd\n",
    "import numpy as np\n",
    "import seaborn as sns\n",
    "import matplotlib.pyplot as plt"
   ]
  },
  {
   "cell_type": "code",
   "execution_count": 2,
   "metadata": {},
   "outputs": [],
   "source": [
    "'''Importing January 2019 Files \n",
    "Neighbourhoods = Neighbourhood list for geo filter. Sourced from city or open source GIS files.\n",
    "Reviews = Summary Review data and Listing ID (to facilitate time based analytics and visualisations linked to a listing)\n",
    "Listings = \tSummary information and metrics for listings in Portland (good for visualisations).\n",
    "\n",
    "Reviews_content = Detailed Review Data for listings in Portland\n",
    "Calendar_content = Detailed Calendar Data for listings in Portland\n",
    "Listing_content = Detailed Listings data for Portland'''\n",
    "\n",
    "neighbourhoods = pd.read_csv('C:/Users/Jing/Desktop/Galvanize_Capstones/JingWu-Capstone2/DATA/Jan2019neighbourhoods.csv')\n",
    "reviews19 = pd.read_csv('C:/Users/Jing/Desktop/Galvanize_Capstones/JingWu-Capstone2/DATA/Jan2019reviews.csv')\n",
    "listings19 = pd.read_csv('C:/Users/Jing/Desktop/Galvanize_Capstones/JingWu-Capstone2/DATA/Jan2019listings.csv')\n",
    "\n",
    "# Importing the csv.gz files\n",
    "reviews19_content = pd.read_csv('C:/Users/Jing/Desktop/Galvanize_Capstones/JingWu-Capstone2/DATA/Jan2019reviews.csv.gz')\n",
    "calendar19_content = pd.read_csv('C:/Users/Jing/Desktop/Galvanize_Capstones/JingWu-Capstone2/DATA/Jan2019calendar.csv.gz')\n",
    "listings19_content = pd.read_csv('C:/Users/Jing/Desktop/Galvanize_Capstones/JingWu-Capstone2/DATA/Jan2019listings.csv.gz')"
   ]
  },
  {
   "cell_type": "code",
   "execution_count": 3,
   "metadata": {},
   "outputs": [],
   "source": [
    "'''Importing January 2020 Files. Clean the data so that all the listings between these two years are both listed\n",
    "Potentially can even show dropped listings'''\n",
    "\n",
    "listings20 = pd.read_csv('C:/Users/Jing/Desktop/Galvanize_Capstones/JingWu-Capstone2/DATA/Jan2020listings.csv')\n",
    "reviews20 = pd.read_csv('C:/Users/Jing/Desktop/Galvanize_Capstones/JingWu-Capstone2/DATA/Jan2020reviews.csv.gz')\n",
    "\n",
    "# Importing Jan2020 csv.gz files\n",
    "listings20_content = pd.read_csv('C:/Users/Jing/Desktop/Galvanize_Capstones/JingWu-Capstone2/DATA/Jan2020listings.csv.gz')\n",
    "reviews20_content = pd.read_csv('C:/Users/Jing/Desktop/Galvanize_Capstones/JingWu-Capstone2/DATA/Jan2020reviews.csv.gz')"
   ]
  },
  {
   "cell_type": "markdown",
   "metadata": {},
   "source": [
    "### Exploring 2019 Data, start data cleaning"
   ]
  },
  {
   "cell_type": "code",
   "execution_count": 28,
   "metadata": {},
   "outputs": [
    {
     "name": "stdout",
     "output_type": "stream",
     "text": [
      "<class 'pandas.core.frame.DataFrame'>\n",
      "RangeIndex: 5349 entries, 0 to 5348\n",
      "Data columns (total 16 columns):\n",
      " #   Column                          Non-Null Count  Dtype  \n",
      "---  ------                          --------------  -----  \n",
      " 0   id                              5349 non-null   int64  \n",
      " 1   name                            5349 non-null   object \n",
      " 2   host_id                         5349 non-null   int64  \n",
      " 3   host_name                       5349 non-null   object \n",
      " 4   neighbourhood_group             0 non-null      float64\n",
      " 5   neighbourhood                   5349 non-null   object \n",
      " 6   latitude                        5349 non-null   float64\n",
      " 7   longitude                       5349 non-null   float64\n",
      " 8   room_type                       5349 non-null   object \n",
      " 9   price                           5349 non-null   int64  \n",
      " 10  minimum_nights                  5349 non-null   int64  \n",
      " 11  number_of_reviews               5349 non-null   int64  \n",
      " 12  last_review                     4892 non-null   object \n",
      " 13  reviews_per_month               4892 non-null   float64\n",
      " 14  calculated_host_listings_count  5349 non-null   int64  \n",
      " 15  availability_365                5349 non-null   int64  \n",
      "dtypes: float64(4), int64(7), object(5)\n",
      "memory usage: 668.8+ KB\n"
     ]
    }
   ],
   "source": [
    "listings19_content #doesn't have neighbourhoods\n",
    "listings19.head()\n",
    "listings19.info()\n",
    "# Join on the ID between listings and listings_content\n",
    "# Potentially Join 2019 and 2020, some listings aren't in the data anymore"
   ]
  },
  {
   "cell_type": "code",
   "execution_count": 33,
   "metadata": {},
   "outputs": [],
   "source": [
    "# All the neighborhoods\n",
    "pd.set_option('display.max_row', 1000)\n",
    "neighbourhoods = pd.DataFrame(neighbourhoods.neighbourhood)\n",
    "# neighbourhoods\n",
    "neighbourhoods.to_csv('neighborhoods')"
   ]
  },
  {
   "cell_type": "code",
   "execution_count": 29,
   "metadata": {},
   "outputs": [],
   "source": [
    "# Limiting neighbourhoods to certain areas\n",
    "# listings19.neighbourhood.str.contains('Pearl','Goose Hollow','Old Town/Chinatown','Lloyd District','Portland Downtown')\n",
    "# These are the 5 neighbourhoods to work with"
   ]
  },
  {
   "cell_type": "code",
   "execution_count": 12,
   "metadata": {},
   "outputs": [
    {
     "data": {
      "text/plain": [
       "Index(['listing_id', 'id', 'date', 'reviewer_id', 'reviewer_name', 'comments'], dtype='object')"
      ]
     },
     "execution_count": 12,
     "metadata": {},
     "output_type": "execute_result"
    }
   ],
   "source": [
    "reviews19\n",
    "reviews19_content\n",
    "reviews19_content.columns\n",
    "# Join between listing_id with listings"
   ]
  },
  {
   "cell_type": "code",
   "execution_count": 32,
   "metadata": {},
   "outputs": [
    {
     "data": {
      "text/html": [
       "<div>\n",
       "<style scoped>\n",
       "    .dataframe tbody tr th:only-of-type {\n",
       "        vertical-align: middle;\n",
       "    }\n",
       "\n",
       "    .dataframe tbody tr th {\n",
       "        vertical-align: top;\n",
       "    }\n",
       "\n",
       "    .dataframe thead th {\n",
       "        text-align: right;\n",
       "    }\n",
       "</style>\n",
       "<table border=\"1\" class=\"dataframe\">\n",
       "  <thead>\n",
       "    <tr style=\"text-align: right;\">\n",
       "      <th></th>\n",
       "      <th>listing_id</th>\n",
       "      <th>id</th>\n",
       "      <th>date</th>\n",
       "      <th>reviewer_id</th>\n",
       "      <th>reviewer_name</th>\n",
       "      <th>comments</th>\n",
       "    </tr>\n",
       "  </thead>\n",
       "  <tbody>\n",
       "    <tr>\n",
       "      <th>0</th>\n",
       "      <td>7893</td>\n",
       "      <td>27282</td>\n",
       "      <td>2010-02-22</td>\n",
       "      <td>52074</td>\n",
       "      <td>Shaun</td>\n",
       "      <td>Couldn't possibly had a better experience with...</td>\n",
       "    </tr>\n",
       "    <tr>\n",
       "      <th>1</th>\n",
       "      <td>7893</td>\n",
       "      <td>17461247</td>\n",
       "      <td>2014-08-12</td>\n",
       "      <td>13284006</td>\n",
       "      <td>Jessica</td>\n",
       "      <td>Jesse's place was really wonderful! The apartm...</td>\n",
       "    </tr>\n",
       "    <tr>\n",
       "      <th>2</th>\n",
       "      <td>12899</td>\n",
       "      <td>24767</td>\n",
       "      <td>2010-01-24</td>\n",
       "      <td>69327</td>\n",
       "      <td>Stuart</td>\n",
       "      <td>Recommended! Very good value for a spacious, a...</td>\n",
       "    </tr>\n",
       "    <tr>\n",
       "      <th>3</th>\n",
       "      <td>12899</td>\n",
       "      <td>29230</td>\n",
       "      <td>2010-03-13</td>\n",
       "      <td>72846</td>\n",
       "      <td>John</td>\n",
       "      <td>Our ten days visiting in Portland were enormou...</td>\n",
       "    </tr>\n",
       "    <tr>\n",
       "      <th>4</th>\n",
       "      <td>12899</td>\n",
       "      <td>29806</td>\n",
       "      <td>2010-03-16</td>\n",
       "      <td>84196</td>\n",
       "      <td>Lois</td>\n",
       "      <td>We had a wonderful time staying in the area of...</td>\n",
       "    </tr>\n",
       "    <tr>\n",
       "      <th>...</th>\n",
       "      <td>...</td>\n",
       "      <td>...</td>\n",
       "      <td>...</td>\n",
       "      <td>...</td>\n",
       "      <td>...</td>\n",
       "      <td>...</td>\n",
       "    </tr>\n",
       "    <tr>\n",
       "      <th>335434</th>\n",
       "      <td>31224577</td>\n",
       "      <td>368952249</td>\n",
       "      <td>2019-01-08</td>\n",
       "      <td>25315714</td>\n",
       "      <td>Robert</td>\n",
       "      <td>Accommodations offer extreme privacy with a la...</td>\n",
       "    </tr>\n",
       "    <tr>\n",
       "      <th>335435</th>\n",
       "      <td>31224577</td>\n",
       "      <td>401142574</td>\n",
       "      <td>2019-01-13</td>\n",
       "      <td>51625578</td>\n",
       "      <td>Shuailin</td>\n",
       "      <td>one of my best Airbnb experience! Jeff is real...</td>\n",
       "    </tr>\n",
       "    <tr>\n",
       "      <th>335436</th>\n",
       "      <td>31291509</td>\n",
       "      <td>400029795</td>\n",
       "      <td>2019-01-10</td>\n",
       "      <td>226304108</td>\n",
       "      <td>Levi</td>\n",
       "      <td>Mickey and Molly went above and beyond when th...</td>\n",
       "    </tr>\n",
       "    <tr>\n",
       "      <th>335437</th>\n",
       "      <td>31320431</td>\n",
       "      <td>400657251</td>\n",
       "      <td>2019-01-12</td>\n",
       "      <td>137962222</td>\n",
       "      <td>Callum</td>\n",
       "      <td>This was hands-down the best Airbnb I have sta...</td>\n",
       "    </tr>\n",
       "    <tr>\n",
       "      <th>335438</th>\n",
       "      <td>31442606</td>\n",
       "      <td>400327860</td>\n",
       "      <td>2019-01-11</td>\n",
       "      <td>149307263</td>\n",
       "      <td>Jesse</td>\n",
       "      <td>It was a nice quiet place and very clean. It w...</td>\n",
       "    </tr>\n",
       "  </tbody>\n",
       "</table>\n",
       "<p>335439 rows × 6 columns</p>\n",
       "</div>"
      ],
      "text/plain": [
       "        listing_id         id        date  reviewer_id reviewer_name  \\\n",
       "0             7893      27282  2010-02-22        52074         Shaun   \n",
       "1             7893   17461247  2014-08-12     13284006       Jessica   \n",
       "2            12899      24767  2010-01-24        69327        Stuart   \n",
       "3            12899      29230  2010-03-13        72846          John   \n",
       "4            12899      29806  2010-03-16        84196          Lois   \n",
       "...            ...        ...         ...          ...           ...   \n",
       "335434    31224577  368952249  2019-01-08     25315714        Robert   \n",
       "335435    31224577  401142574  2019-01-13     51625578      Shuailin   \n",
       "335436    31291509  400029795  2019-01-10    226304108          Levi   \n",
       "335437    31320431  400657251  2019-01-12    137962222        Callum   \n",
       "335438    31442606  400327860  2019-01-11    149307263         Jesse   \n",
       "\n",
       "                                                 comments  \n",
       "0       Couldn't possibly had a better experience with...  \n",
       "1       Jesse's place was really wonderful! The apartm...  \n",
       "2       Recommended! Very good value for a spacious, a...  \n",
       "3       Our ten days visiting in Portland were enormou...  \n",
       "4       We had a wonderful time staying in the area of...  \n",
       "...                                                   ...  \n",
       "335434  Accommodations offer extreme privacy with a la...  \n",
       "335435  one of my best Airbnb experience! Jeff is real...  \n",
       "335436  Mickey and Molly went above and beyond when th...  \n",
       "335437  This was hands-down the best Airbnb I have sta...  \n",
       "335438  It was a nice quiet place and very clean. It w...  \n",
       "\n",
       "[335439 rows x 6 columns]"
      ]
     },
     "execution_count": 32,
     "metadata": {},
     "output_type": "execute_result"
    }
   ],
   "source": [
    "reviews19_content\n",
    "# This table may not be necessary, could use reviews19_content"
   ]
  },
  {
   "cell_type": "code",
   "execution_count": null,
   "metadata": {},
   "outputs": [],
   "source": []
  },
  {
   "cell_type": "code",
   "execution_count": null,
   "metadata": {},
   "outputs": [],
   "source": []
  },
  {
   "cell_type": "code",
   "execution_count": null,
   "metadata": {},
   "outputs": [],
   "source": []
  }
 ],
 "metadata": {
  "kernelspec": {
   "display_name": "Python 3",
   "language": "python",
   "name": "python3"
  },
  "language_info": {
   "codemirror_mode": {
    "name": "ipython",
    "version": 3
   },
   "file_extension": ".py",
   "mimetype": "text/x-python",
   "name": "python",
   "nbconvert_exporter": "python",
   "pygments_lexer": "ipython3",
   "version": "3.7.7"
  }
 },
 "nbformat": 4,
 "nbformat_minor": 4
}
