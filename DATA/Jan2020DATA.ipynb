{
 "cells": [
  {
   "cell_type": "code",
   "execution_count": 1,
   "metadata": {},
   "outputs": [],
   "source": [
    "import pandas as pd\n",
    "import numpy as np\n",
    "import seaborn as sns\n",
    "import matplotlib.pyplot as plt"
   ]
  },
  {
   "cell_type": "code",
   "execution_count": 2,
   "metadata": {},
   "outputs": [],
   "source": [
    "'''Importing January 2020 Files \n",
    "Neighbourhoods = Neighbourhood list for geo filter. Sourced from city or open source GIS files.\n",
    "Reviews = Summary Review data and Listing ID (to facilitate time based analytics and visualisations linked to a listing)\n",
    "Listings = \tSummary information and metrics for listings in Portland (good for visualisations).\n",
    "\n",
    "Reviews_content = Detailed Review Data for listings in Portland\n",
    "Calendar_content = Detailed Calendar Data for listings in Portland\n",
    "Listing_content = Detailed Listings data for Portland'''\n",
    "\n",
    "neighborhoods = pd.read_csv('C:/Users/Jing/Desktop/Galvanize_Capstones/JingWu-Capstone2/DATA/neighborhoods.csv')\n",
    "reviews = pd.read_csv('C:/Users/Jing/Desktop/Galvanize_Capstones/JingWu-Capstone2/DATA/Jan2020reviews.csv')\n",
    "listings = pd.read_csv('C:/Users/Jing/Desktop/Galvanize_Capstones/JingWu-Capstone2/DATA/Jan2020listings.csv')\n",
    "\n",
    "# Importing the csv.gz files\n",
    "reviews_content = pd.read_csv('C:/Users/Jing/Desktop/Galvanize_Capstones/JingWu-Capstone2/DATA/Jan2020reviews.csv.gz')\n",
    "calendar_content = pd.read_csv('C:/Users/Jing/Desktop/Galvanize_Capstones/JingWu-Capstone2/DATA/calendar.csv.gz')\n",
    "listings_content = pd.read_csv('C:/Users/Jing/Desktop/Galvanize_Capstones/JingWu-Capstone2/DATA/Jan2020listings.csv.gz')"
   ]
  },
  {
   "cell_type": "markdown",
   "metadata": {},
   "source": [
    "## Cleaning Data"
   ]
  },
  {
   "cell_type": "code",
   "execution_count": 3,
   "metadata": {},
   "outputs": [],
   "source": [
    "listings.columns\n",
    "listings.drop(columns=['neighbourhood_group','last_review','reviews_per_month'],inplace=True)"
   ]
  },
  {
   "cell_type": "code",
   "execution_count": 4,
   "metadata": {},
   "outputs": [],
   "source": [
    "listings.shape\n",
    "listings.drop(columns=['host_name','calculated_host_listings_count'],inplace=True)"
   ]
  },
  {
   "cell_type": "code",
   "execution_count": 5,
   "metadata": {},
   "outputs": [
    {
     "data": {
      "text/html": [
       "<div>\n",
       "<style scoped>\n",
       "    .dataframe tbody tr th:only-of-type {\n",
       "        vertical-align: middle;\n",
       "    }\n",
       "\n",
       "    .dataframe tbody tr th {\n",
       "        vertical-align: top;\n",
       "    }\n",
       "\n",
       "    .dataframe thead th {\n",
       "        text-align: right;\n",
       "    }\n",
       "</style>\n",
       "<table border=\"1\" class=\"dataframe\">\n",
       "  <thead>\n",
       "    <tr style=\"text-align: right;\">\n",
       "      <th></th>\n",
       "      <th>id</th>\n",
       "      <th>name</th>\n",
       "      <th>host_id</th>\n",
       "      <th>neighbourhood</th>\n",
       "      <th>latitude</th>\n",
       "      <th>longitude</th>\n",
       "      <th>room_type</th>\n",
       "      <th>price</th>\n",
       "      <th>minimum_nights</th>\n",
       "      <th>number_of_reviews</th>\n",
       "      <th>availability_365</th>\n",
       "    </tr>\n",
       "  </thead>\n",
       "  <tbody>\n",
       "    <tr>\n",
       "      <th>0</th>\n",
       "      <td>16688</td>\n",
       "      <td>Beautiful condo in downtown Pearl, NW Portland</td>\n",
       "      <td>64840</td>\n",
       "      <td>Pearl</td>\n",
       "      <td>45.52542</td>\n",
       "      <td>-122.68557</td>\n",
       "      <td>Entire home/apt</td>\n",
       "      <td>275</td>\n",
       "      <td>2</td>\n",
       "      <td>78</td>\n",
       "      <td>362</td>\n",
       "    </tr>\n",
       "  </tbody>\n",
       "</table>\n",
       "</div>"
      ],
      "text/plain": [
       "      id                                            name  host_id  \\\n",
       "0  16688  Beautiful condo in downtown Pearl, NW Portland    64840   \n",
       "\n",
       "  neighbourhood  latitude  longitude        room_type  price  minimum_nights  \\\n",
       "0         Pearl  45.52542 -122.68557  Entire home/apt    275               2   \n",
       "\n",
       "   number_of_reviews  availability_365  \n",
       "0                 78               362  "
      ]
     },
     "execution_count": 5,
     "metadata": {},
     "output_type": "execute_result"
    }
   ],
   "source": [
    "listings.head(1)"
   ]
  },
  {
   "cell_type": "code",
   "execution_count": 84,
   "metadata": {},
   "outputs": [
    {
     "data": {
      "text/plain": [
       "Richmond                                242\n",
       "Portland Downtown                       217\n",
       "Northwest District                      197\n",
       "Buckman                                 189\n",
       "Pearl                                   179\n",
       "Concordia                               162\n",
       "King                                    150\n",
       "Mt. Tabor                               134\n",
       "Sunnyside                               125\n",
       "Kenton                                  124\n",
       "Overlook                                120\n",
       "Boise                                   115\n",
       "Hosford-Abernethy                       113\n",
       "Irvington                               105\n",
       "Sellwood-Moreland Improvement League     98\n",
       "Kerns                                    96\n",
       "Montavilla                               86\n",
       "Humboldt                                 85\n",
       "Piedmont                                 82\n",
       "Arbor Lodge                              75\n",
       "Woodlawn                                 71\n",
       "South Portland                           68\n",
       "Woodstock                                65\n",
       "Vernon                                   65\n",
       "St. Johns                                64\n",
       "South Tabor                              61\n",
       "Eliot                                    58\n",
       "Cully                                    58\n",
       "Rose City Park                           54\n",
       "Old Town/Chinatown                       54\n",
       "Sabin                                    48\n",
       "Creston-Kenilworth                       44\n",
       "Roseway                                  44\n",
       "Brooklyn Action Corps                    42\n",
       "Hillsdale                                42\n",
       "Laurelhurst                              41\n",
       "Brentwood-Darlington                     40\n",
       "Multnomah                                40\n",
       "North Tabor                              39\n",
       "Portsmouth                               38\n",
       "Lents                                    37\n",
       "Foster-Powell                            37\n",
       "Southwest Hills                          37\n",
       "Mt. Scott-Arleta                         36\n",
       "Madison South                            35\n",
       "Beaumont-Wilshire                        35\n",
       "Goose Hollow                             34\n",
       "Sullivan's Gulch                         33\n",
       "University Park                          32\n",
       "Hazelwood                                32\n",
       "Homestead                                31\n",
       "Cathedral Park                           30\n",
       "Hayhurst                                 30\n",
       "Powellhurst-Gilbert                      29\n",
       "Reed                                     25\n",
       "Alameda                                  24\n",
       "Eastmoreland                             22\n",
       "Grant Park                               21\n",
       "Hillside                                 20\n",
       "Parkrose                                 19\n",
       "Centennial                               17\n",
       "Parkrose Heights                         16\n",
       "Ashcreek                                 15\n",
       "South Burlingame                         14\n",
       "Bridgeton                                14\n",
       "Bridlemile                               12\n",
       "Mill Park                                12\n",
       "Wilkes                                   11\n",
       "West Portland Park                       10\n",
       "Maplewood                                 9\n",
       "Collins View                              8\n",
       "Sylvan-Highlands                          8\n",
       "Far Southwest                             8\n",
       "Northwest Heights                         8\n",
       "Sumner                                    7\n",
       "Markham                                   7\n",
       "Lloyd District                            7\n",
       "Arlington Heights                         7\n",
       "Hollywood                                 6\n",
       "Pleasant Valley                           6\n",
       "Hayden Island                             6\n",
       "Argay                                     5\n",
       "Forest Park                               5\n",
       "Arnold Creek                              5\n",
       "East Columbia                             4\n",
       "Glenfair                                  4\n",
       "Marshall Park                             4\n",
       "Crestwood                                 3\n",
       "Linnton                                   3\n",
       "Sunderland                                3\n",
       "Russell                                   2\n",
       "Ardenwald-Johnson Creek                   2\n",
       "Woodland Park                             1\n",
       "Name: neighbourhood, dtype: int64"
      ]
     },
     "execution_count": 84,
     "metadata": {},
     "output_type": "execute_result"
    }
   ],
   "source": [
    "pd.set_option('display.max_rows', 100)\n",
    "listings.neighbourhood.value_counts()"
   ]
  },
  {
   "cell_type": "code",
   "execution_count": 56,
   "metadata": {},
   "outputs": [
    {
     "data": {
      "text/html": [
       "<div>\n",
       "<style scoped>\n",
       "    .dataframe tbody tr th:only-of-type {\n",
       "        vertical-align: middle;\n",
       "    }\n",
       "\n",
       "    .dataframe tbody tr th {\n",
       "        vertical-align: top;\n",
       "    }\n",
       "\n",
       "    .dataframe thead th {\n",
       "        text-align: right;\n",
       "    }\n",
       "</style>\n",
       "<table border=\"1\" class=\"dataframe\">\n",
       "  <thead>\n",
       "    <tr style=\"text-align: right;\">\n",
       "      <th></th>\n",
       "      <th>id</th>\n",
       "      <th>name</th>\n",
       "      <th>host_id</th>\n",
       "      <th>neighbourhood</th>\n",
       "      <th>latitude</th>\n",
       "      <th>longitude</th>\n",
       "      <th>room_type</th>\n",
       "      <th>price</th>\n",
       "      <th>minimum_nights</th>\n",
       "      <th>number_of_reviews</th>\n",
       "      <th>availability_365</th>\n",
       "    </tr>\n",
       "  </thead>\n",
       "  <tbody>\n",
       "    <tr>\n",
       "      <th>0</th>\n",
       "      <td>16688</td>\n",
       "      <td>Beautiful condo in downtown Pearl, NW Portland</td>\n",
       "      <td>64840</td>\n",
       "      <td>Pearl</td>\n",
       "      <td>45.52542</td>\n",
       "      <td>-122.68557</td>\n",
       "      <td>Entire home/apt</td>\n",
       "      <td>275</td>\n",
       "      <td>2</td>\n",
       "      <td>78</td>\n",
       "      <td>362</td>\n",
       "    </tr>\n",
       "  </tbody>\n",
       "</table>\n",
       "</div>"
      ],
      "text/plain": [
       "      id                                            name  host_id  \\\n",
       "0  16688  Beautiful condo in downtown Pearl, NW Portland    64840   \n",
       "\n",
       "  neighbourhood  latitude  longitude        room_type  price  minimum_nights  \\\n",
       "0         Pearl  45.52542 -122.68557  Entire home/apt    275               2   \n",
       "\n",
       "   number_of_reviews  availability_365  \n",
       "0                 78               362  "
      ]
     },
     "execution_count": 56,
     "metadata": {},
     "output_type": "execute_result"
    }
   ],
   "source": [
    "listings2 = listings.loc[(listings['neighbourhood'] == 'Pearl') | (listings['neighbourhood'] == 'Goose Hollow') | (listings['neighbourhood'] == 'Old Town/Chinatown') | (listings['neighbourhood'] == 'Lloyd District') | (listings['neighbourhood'] == 'Portland Downtown')]\n",
    "listings2.head(1)\n",
    "# listings2.reset_index()\n",
    "listings2.head(1)"
   ]
  },
  {
   "cell_type": "code",
   "execution_count": 57,
   "metadata": {},
   "outputs": [
    {
     "data": {
      "text/html": [
       "<div>\n",
       "<style scoped>\n",
       "    .dataframe tbody tr th:only-of-type {\n",
       "        vertical-align: middle;\n",
       "    }\n",
       "\n",
       "    .dataframe tbody tr th {\n",
       "        vertical-align: top;\n",
       "    }\n",
       "\n",
       "    .dataframe thead th {\n",
       "        text-align: right;\n",
       "    }\n",
       "</style>\n",
       "<table border=\"1\" class=\"dataframe\">\n",
       "  <thead>\n",
       "    <tr style=\"text-align: right;\">\n",
       "      <th></th>\n",
       "      <th>id</th>\n",
       "      <th>name</th>\n",
       "      <th>host_id</th>\n",
       "      <th>neighbourhood</th>\n",
       "      <th>latitude</th>\n",
       "      <th>longitude</th>\n",
       "      <th>room_type</th>\n",
       "      <th>price</th>\n",
       "      <th>minimum_nights</th>\n",
       "      <th>number_of_reviews</th>\n",
       "      <th>availability_365</th>\n",
       "    </tr>\n",
       "  </thead>\n",
       "  <tbody>\n",
       "    <tr>\n",
       "      <th>0</th>\n",
       "      <td>16688</td>\n",
       "      <td>Beautiful condo in downtown Pearl, NW Portland</td>\n",
       "      <td>64840</td>\n",
       "      <td>Pearl</td>\n",
       "      <td>45.52542</td>\n",
       "      <td>-122.68557</td>\n",
       "      <td>Entire home/apt</td>\n",
       "      <td>275</td>\n",
       "      <td>2</td>\n",
       "      <td>78</td>\n",
       "      <td>362</td>\n",
       "    </tr>\n",
       "  </tbody>\n",
       "</table>\n",
       "</div>"
      ],
      "text/plain": [
       "      id                                            name  host_id  \\\n",
       "0  16688  Beautiful condo in downtown Pearl, NW Portland    64840   \n",
       "\n",
       "  neighbourhood  latitude  longitude        room_type  price  minimum_nights  \\\n",
       "0         Pearl  45.52542 -122.68557  Entire home/apt    275               2   \n",
       "\n",
       "   number_of_reviews  availability_365  \n",
       "0                 78               362  "
      ]
     },
     "execution_count": 57,
     "metadata": {},
     "output_type": "execute_result"
    }
   ],
   "source": [
    "listings_content.head(1)\n",
    "# listings_content.reset_index()\n",
    "listings2.head(1)"
   ]
  },
  {
   "cell_type": "code",
   "execution_count": 8,
   "metadata": {},
   "outputs": [],
   "source": [
    "listings_content.drop(columns=['listing_url','scrape_id','last_scraped','name','availability_365',\n",
    "                               'experiences_offered','thumbnail_url','medium_url','picture_url','xl_picture_url',\n",
    "                               'host_about','host_thumbnail_url','host_picture_url','neighborhood_overview','host_listings_count',\n",
    "                               'host_neighbourhood','neighbourhood_cleansed','neighbourhood_group_cleansed',\n",
    "                              'city','state','country_code','country','latitude','longitude','is_location_exact','bed_type',\n",
    "                              'host_id','host_url','host_since','host_total_listings_count','street','neighbourhood','square_feet','minimum_minimum_nights',\n",
    "                               'maximum_minimum_nights','minimum_maximum_nights','maximum_maximum_nights','smart_location',\n",
    "                              'reviews_per_month','jurisdiction_names','requires_license','license','calculated_host_listings_count_shared_rooms',\n",
    "                               'calculated_host_listings_count_private_rooms','calculated_host_listings_count_entire_homes',\n",
    "                              'calculated_host_listings_count','first_review','last_review','number_of_reviews_ltm','calendar_last_scraped','availability_90',\n",
    "                               'availability_60','availability_30','maximum_nights_avg_ntm','minimum_nights_avg_ntm',\n",
    "                              'host_name','require_guest_profile_picture','require_guest_phone_verification','host_location','market','notes','zipcode',\n",
    "                               'number_of_reviews','host_acceptance_rate','minimum_nights','maximum_nights','has_availability','calendar_updated'],inplace=True)"
   ]
  },
  {
   "cell_type": "code",
   "execution_count": 9,
   "metadata": {},
   "outputs": [],
   "source": [
    "listings_content.drop(columns=['review_scores_accuracy',\n",
    " 'review_scores_cleanliness',\n",
    " 'review_scores_checkin',\n",
    " 'review_scores_communication',\n",
    " 'review_scores_location',\n",
    " 'review_scores_value','host_verifications', 'weekly_price',\n",
    " 'monthly_price','room_type'],inplace=True)"
   ]
  },
  {
   "cell_type": "code",
   "execution_count": 10,
   "metadata": {},
   "outputs": [],
   "source": [
    "listings_content.drop(columns='room_type',inplace=True)"
   ]
  },
  {
   "cell_type": "code",
   "execution_count": 11,
   "metadata": {},
   "outputs": [
    {
     "data": {
      "text/plain": [
       "['id',\n",
       " 'summary',\n",
       " 'space',\n",
       " 'description',\n",
       " 'transit',\n",
       " 'access',\n",
       " 'interaction',\n",
       " 'house_rules',\n",
       " 'host_response_time',\n",
       " 'host_response_rate',\n",
       " 'host_is_superhost',\n",
       " 'host_has_profile_pic',\n",
       " 'host_identity_verified',\n",
       " 'property_type',\n",
       " 'accommodates',\n",
       " 'bathrooms',\n",
       " 'bedrooms',\n",
       " 'beds',\n",
       " 'amenities',\n",
       " 'price',\n",
       " 'security_deposit',\n",
       " 'cleaning_fee',\n",
       " 'guests_included',\n",
       " 'extra_people',\n",
       " 'review_scores_rating',\n",
       " 'instant_bookable',\n",
       " 'is_business_travel_ready',\n",
       " 'cancellation_policy']"
      ]
     },
     "execution_count": 11,
     "metadata": {},
     "output_type": "execute_result"
    }
   ],
   "source": [
    "list(listings_content.columns)\n",
    "# listings_content.shape\n",
    "# listings_content.host_verifications"
   ]
  },
  {
   "cell_type": "code",
   "execution_count": 12,
   "metadata": {},
   "outputs": [
    {
     "data": {
      "text/html": [
       "<div>\n",
       "<style scoped>\n",
       "    .dataframe tbody tr th:only-of-type {\n",
       "        vertical-align: middle;\n",
       "    }\n",
       "\n",
       "    .dataframe tbody tr th {\n",
       "        vertical-align: top;\n",
       "    }\n",
       "\n",
       "    .dataframe thead th {\n",
       "        text-align: right;\n",
       "    }\n",
       "</style>\n",
       "<table border=\"1\" class=\"dataframe\">\n",
       "  <thead>\n",
       "    <tr style=\"text-align: right;\">\n",
       "      <th></th>\n",
       "      <th>listing_id</th>\n",
       "      <th>date</th>\n",
       "      <th>available</th>\n",
       "      <th>price</th>\n",
       "      <th>adjusted_price</th>\n",
       "    </tr>\n",
       "  </thead>\n",
       "  <tbody>\n",
       "    <tr>\n",
       "      <th>0</th>\n",
       "      <td>16688</td>\n",
       "      <td>2020-01-02</td>\n",
       "      <td>t</td>\n",
       "      <td>$239.00</td>\n",
       "      <td>$239.00</td>\n",
       "    </tr>\n",
       "  </tbody>\n",
       "</table>\n",
       "</div>"
      ],
      "text/plain": [
       "   listing_id        date available    price adjusted_price\n",
       "0       16688  2020-01-02         t  $239.00        $239.00"
      ]
     },
     "execution_count": 12,
     "metadata": {},
     "output_type": "execute_result"
    }
   ],
   "source": [
    "calendar_content.head(1)\n",
    "calendar_content.drop(columns=['minimum_nights','maximum_nights'],inplace=True)\n",
    "calendar_content.head(1)"
   ]
  },
  {
   "cell_type": "code",
   "execution_count": 13,
   "metadata": {},
   "outputs": [],
   "source": [
    "# listings2.to_csv('listings2.csv',index=False)\n",
    "# calendar_content.to_csv('calendarPortland.csv',index=False)\n",
    "# listings_content.to_csv('listings_content.csv',index=False)"
   ]
  },
  {
   "cell_type": "markdown",
   "metadata": {},
   "source": [
    "## Joined the tables, now to clean it"
   ]
  },
  {
   "cell_type": "code",
   "execution_count": 14,
   "metadata": {},
   "outputs": [],
   "source": [
    "all_tables = pd.read_csv('C:/Users/Jing/Desktop/Galvanize_Capstones/JingWu-Capstone2/DATA/Join_3tables.csv')\n",
    "listing_joined = pd.read_csv('C:/Users/Jing/Desktop/Galvanize_Capstones/JingWu-Capstone2/DATA/listings_joined.csv')"
   ]
  },
  {
   "cell_type": "code",
   "execution_count": 15,
   "metadata": {},
   "outputs": [
    {
     "data": {
      "text/plain": [
       "Index(['Access', 'Amenities', 'Available', 'Cancellation Policy', 'Date',\n",
       "       'Description', 'Host Has Profile Pic', 'Host Id',\n",
       "       'Host Identity Verified', 'Host Is Superhost', 'Host Response Time',\n",
       "       'House Rules', 'Instant Bookable', 'Interaction',\n",
       "       'Is Business Travel Ready', 'Listing Id', 'Name', 'Neighbourhood',\n",
       "       'Property Type', 'Room Type', 'Space', 'Summary', 'Transit',\n",
       "       'Accommodates', 'Adjusted Price', 'Availability 365', 'Bathrooms',\n",
       "       'Bedrooms', 'Beds', 'Cleaning Fee', 'Extra People', 'Guests Included',\n",
       "       'Host Response Rate', 'Latitude', 'Longitude', 'Minimum Nights',\n",
       "       'Number Of Reviews', 'Price', 'price (calendarPortland.csv)',\n",
       "       'Price (Listings Content.Csv)', 'Review Scores Rating',\n",
       "       'Security Deposit'],\n",
       "      dtype='object')"
      ]
     },
     "execution_count": 15,
     "metadata": {},
     "output_type": "execute_result"
    }
   ],
   "source": [
    "all_tables.head(1)\n",
    "all_tables.columns"
   ]
  },
  {
   "cell_type": "code",
   "execution_count": 16,
   "metadata": {},
   "outputs": [],
   "source": [
    "all_tables.rename(columns={'price (calendarPortland.csv)':'calendar_price'},inplace=True)"
   ]
  },
  {
   "cell_type": "code",
   "execution_count": 17,
   "metadata": {},
   "outputs": [
    {
     "data": {
      "text/html": [
       "<div>\n",
       "<style scoped>\n",
       "    .dataframe tbody tr th:only-of-type {\n",
       "        vertical-align: middle;\n",
       "    }\n",
       "\n",
       "    .dataframe tbody tr th {\n",
       "        vertical-align: top;\n",
       "    }\n",
       "\n",
       "    .dataframe thead th {\n",
       "        text-align: right;\n",
       "    }\n",
       "</style>\n",
       "<table border=\"1\" class=\"dataframe\">\n",
       "  <thead>\n",
       "    <tr style=\"text-align: right;\">\n",
       "      <th></th>\n",
       "      <th>Access</th>\n",
       "      <th>Amenities</th>\n",
       "      <th>Available</th>\n",
       "      <th>Cancellation Policy</th>\n",
       "      <th>Date</th>\n",
       "      <th>Description</th>\n",
       "      <th>Host Has Profile Pic</th>\n",
       "      <th>Host Id</th>\n",
       "      <th>Host Identity Verified</th>\n",
       "      <th>Host Is Superhost</th>\n",
       "      <th>...</th>\n",
       "      <th>Host Response Rate</th>\n",
       "      <th>Latitude</th>\n",
       "      <th>Longitude</th>\n",
       "      <th>Minimum Nights</th>\n",
       "      <th>Number Of Reviews</th>\n",
       "      <th>Price</th>\n",
       "      <th>calendar_price</th>\n",
       "      <th>listings_price</th>\n",
       "      <th>Review Scores Rating</th>\n",
       "      <th>Security Deposit</th>\n",
       "    </tr>\n",
       "  </thead>\n",
       "  <tbody>\n",
       "    <tr>\n",
       "      <th>0</th>\n",
       "      <td>The room is private and the bathroom is down t...</td>\n",
       "      <td>{Wifi,\"Air conditioning\",Kitchen,Heating,\"Smok...</td>\n",
       "      <td>False</td>\n",
       "      <td>strict_14_with_grace_period</td>\n",
       "      <td>1/5/2020</td>\n",
       "      <td>The most central single family residence in do...</td>\n",
       "      <td>True</td>\n",
       "      <td>8207605</td>\n",
       "      <td>True</td>\n",
       "      <td>False</td>\n",
       "      <td>...</td>\n",
       "      <td>1.0</td>\n",
       "      <td>45.51678</td>\n",
       "      <td>-122.68783</td>\n",
       "      <td>28</td>\n",
       "      <td>25</td>\n",
       "      <td>45</td>\n",
       "      <td>45</td>\n",
       "      <td>45</td>\n",
       "      <td>93.0</td>\n",
       "      <td>200.0</td>\n",
       "    </tr>\n",
       "  </tbody>\n",
       "</table>\n",
       "<p>1 rows × 42 columns</p>\n",
       "</div>"
      ],
      "text/plain": [
       "                                              Access  \\\n",
       "0  The room is private and the bathroom is down t...   \n",
       "\n",
       "                                           Amenities  Available  \\\n",
       "0  {Wifi,\"Air conditioning\",Kitchen,Heating,\"Smok...      False   \n",
       "\n",
       "           Cancellation Policy      Date  \\\n",
       "0  strict_14_with_grace_period  1/5/2020   \n",
       "\n",
       "                                         Description  Host Has Profile Pic  \\\n",
       "0  The most central single family residence in do...                  True   \n",
       "\n",
       "   Host Id  Host Identity Verified  Host Is Superhost  ... Host Response Rate  \\\n",
       "0  8207605                    True              False  ...                1.0   \n",
       "\n",
       "   Latitude  Longitude Minimum Nights  Number Of Reviews  Price  \\\n",
       "0  45.51678 -122.68783             28                 25     45   \n",
       "\n",
       "  calendar_price listings_price Review Scores Rating Security Deposit  \n",
       "0             45             45                 93.0            200.0  \n",
       "\n",
       "[1 rows x 42 columns]"
      ]
     },
     "execution_count": 17,
     "metadata": {},
     "output_type": "execute_result"
    }
   ],
   "source": [
    "all_tables.rename(columns={'Price (Listings Content.Csv)':'listings_price'},inplace=True)\n",
    "all_tables.head(1)"
   ]
  },
  {
   "cell_type": "code",
   "execution_count": 18,
   "metadata": {},
   "outputs": [
    {
     "data": {
      "text/html": [
       "<div>\n",
       "<style scoped>\n",
       "    .dataframe tbody tr th:only-of-type {\n",
       "        vertical-align: middle;\n",
       "    }\n",
       "\n",
       "    .dataframe tbody tr th {\n",
       "        vertical-align: top;\n",
       "    }\n",
       "\n",
       "    .dataframe thead th {\n",
       "        text-align: right;\n",
       "    }\n",
       "</style>\n",
       "<table border=\"1\" class=\"dataframe\">\n",
       "  <thead>\n",
       "    <tr style=\"text-align: right;\">\n",
       "      <th></th>\n",
       "      <th>Access</th>\n",
       "      <th>Amenities</th>\n",
       "      <th>Available</th>\n",
       "      <th>Cancellation Policy</th>\n",
       "      <th>Date</th>\n",
       "      <th>Description</th>\n",
       "      <th>Host Has Profile Pic</th>\n",
       "      <th>Host Id</th>\n",
       "      <th>Host Identity Verified</th>\n",
       "      <th>Host Is Superhost</th>\n",
       "      <th>...</th>\n",
       "      <th>Host Response Rate</th>\n",
       "      <th>Latitude</th>\n",
       "      <th>Longitude</th>\n",
       "      <th>Minimum Nights</th>\n",
       "      <th>Number Of Reviews</th>\n",
       "      <th>Price</th>\n",
       "      <th>calendar_price</th>\n",
       "      <th>listings_price</th>\n",
       "      <th>Review Scores Rating</th>\n",
       "      <th>Security Deposit</th>\n",
       "    </tr>\n",
       "  </thead>\n",
       "  <tbody>\n",
       "  </tbody>\n",
       "</table>\n",
       "<p>0 rows × 42 columns</p>\n",
       "</div>"
      ],
      "text/plain": [
       "Empty DataFrame\n",
       "Columns: [Access, Amenities, Available, Cancellation Policy, Date, Description, Host Has Profile Pic, Host Id, Host Identity Verified, Host Is Superhost, Host Response Time, House Rules, Instant Bookable, Interaction, Is Business Travel Ready, Listing Id, Name, Neighbourhood, Property Type, Room Type, Space, Summary, Transit, Accommodates, Adjusted Price, Availability 365, Bathrooms, Bedrooms, Beds, Cleaning Fee, Extra People, Guests Included, Host Response Rate, Latitude, Longitude, Minimum Nights, Number Of Reviews, Price, calendar_price, listings_price, Review Scores Rating, Security Deposit]\n",
       "Index: []\n",
       "\n",
       "[0 rows x 42 columns]"
      ]
     },
     "execution_count": 18,
     "metadata": {},
     "output_type": "execute_result"
    }
   ],
   "source": [
    "all_tables.loc[all_tables['Host Id'].isna()]"
   ]
  },
  {
   "cell_type": "code",
   "execution_count": 19,
   "metadata": {},
   "outputs": [],
   "source": [
    "tables_combined = all_tables.fillna('')"
   ]
  },
  {
   "cell_type": "code",
   "execution_count": 20,
   "metadata": {},
   "outputs": [
    {
     "name": "stdout",
     "output_type": "stream",
     "text": [
      "<class 'pandas.core.frame.DataFrame'>\n",
      "RangeIndex: 179215 entries, 0 to 179214\n",
      "Data columns (total 42 columns):\n",
      " #   Column                    Non-Null Count   Dtype  \n",
      "---  ------                    --------------   -----  \n",
      " 0   Access                    179215 non-null  object \n",
      " 1   Amenities                 179215 non-null  object \n",
      " 2   Available                 179215 non-null  bool   \n",
      " 3   Cancellation Policy       179215 non-null  object \n",
      " 4   Date                      179215 non-null  object \n",
      " 5   Description               179215 non-null  object \n",
      " 6   Host Has Profile Pic      179215 non-null  bool   \n",
      " 7   Host Id                   179215 non-null  int64  \n",
      " 8   Host Identity Verified    179215 non-null  bool   \n",
      " 9   Host Is Superhost         179215 non-null  bool   \n",
      " 10  Host Response Time        179215 non-null  object \n",
      " 11  House Rules               179215 non-null  object \n",
      " 12  Instant Bookable          179215 non-null  bool   \n",
      " 13  Interaction               179215 non-null  object \n",
      " 14  Is Business Travel Ready  179215 non-null  bool   \n",
      " 15  Listing Id                179215 non-null  int64  \n",
      " 16  Name                      179215 non-null  object \n",
      " 17  Neighbourhood             179215 non-null  object \n",
      " 18  Property Type             179215 non-null  object \n",
      " 19  Room Type                 179215 non-null  object \n",
      " 20  Space                     179215 non-null  object \n",
      " 21  Summary                   179215 non-null  object \n",
      " 22  Transit                   179215 non-null  object \n",
      " 23  Accommodates              179215 non-null  int64  \n",
      " 24  Adjusted Price            179215 non-null  int64  \n",
      " 25  Availability 365          179215 non-null  int64  \n",
      " 26  Bathrooms                 179215 non-null  float64\n",
      " 27  Bedrooms                  179215 non-null  object \n",
      " 28  Beds                      179215 non-null  int64  \n",
      " 29  Cleaning Fee              179215 non-null  object \n",
      " 30  Extra People              179215 non-null  int64  \n",
      " 31  Guests Included           179215 non-null  int64  \n",
      " 32  Host Response Rate        179215 non-null  object \n",
      " 33  Latitude                  179215 non-null  float64\n",
      " 34  Longitude                 179215 non-null  float64\n",
      " 35  Minimum Nights            179215 non-null  int64  \n",
      " 36  Number Of Reviews         179215 non-null  int64  \n",
      " 37  Price                     179215 non-null  int64  \n",
      " 38  calendar_price            179215 non-null  int64  \n",
      " 39  listings_price            179215 non-null  int64  \n",
      " 40  Review Scores Rating      179215 non-null  object \n",
      " 41  Security Deposit          179215 non-null  object \n",
      "dtypes: bool(6), float64(3), int64(13), object(20)\n",
      "memory usage: 50.2+ MB\n"
     ]
    }
   ],
   "source": [
    "tables_combined.info()"
   ]
  },
  {
   "cell_type": "code",
   "execution_count": 21,
   "metadata": {},
   "outputs": [
    {
     "name": "stdout",
     "output_type": "stream",
     "text": [
      "<class 'pandas.core.frame.DataFrame'>\n",
      "RangeIndex: 491 entries, 0 to 490\n",
      "Data columns (total 37 columns):\n",
      " #   Column                        Non-Null Count  Dtype  \n",
      "---  ------                        --------------  -----  \n",
      " 0   Access                        491 non-null    object \n",
      " 1   Amenities                     491 non-null    object \n",
      " 2   Cancellation Policy           491 non-null    object \n",
      " 3   Description                   491 non-null    object \n",
      " 4   Host Has Profile Pic          491 non-null    bool   \n",
      " 5   Host Id                       491 non-null    int64  \n",
      " 6   Host Identity Verified        491 non-null    bool   \n",
      " 7   Host Is Superhost             491 non-null    bool   \n",
      " 8   Host Response Time            491 non-null    object \n",
      " 9   House Rules                   491 non-null    object \n",
      " 10  Instant Bookable              491 non-null    bool   \n",
      " 11  Interaction                   491 non-null    object \n",
      " 12  Is Business Travel Ready      491 non-null    bool   \n",
      " 13  Name                          491 non-null    object \n",
      " 14  Neighbourhood                 491 non-null    object \n",
      " 15  Property Type                 491 non-null    object \n",
      " 16  Room Type                     491 non-null    object \n",
      " 17  Space                         491 non-null    object \n",
      " 18  Summary                       491 non-null    object \n",
      " 19  Transit                       491 non-null    object \n",
      " 20  Accommodates                  491 non-null    int64  \n",
      " 21  Availability 365              491 non-null    int64  \n",
      " 22  Bathrooms                     491 non-null    float64\n",
      " 23  Bedrooms                      491 non-null    object \n",
      " 24  Beds                          491 non-null    int64  \n",
      " 25  Cleaning Fee                  491 non-null    object \n",
      " 26  Extra People                  491 non-null    int64  \n",
      " 27  Guests Included               491 non-null    int64  \n",
      " 28  Host Response Rate            491 non-null    object \n",
      " 29  Latitude                      491 non-null    float64\n",
      " 30  Longitude                     491 non-null    float64\n",
      " 31  Minimum Nights                491 non-null    int64  \n",
      " 32  Number Of Reviews             491 non-null    int64  \n",
      " 33  Price                         491 non-null    int64  \n",
      " 34  Price (Listings Content.Csv)  491 non-null    int64  \n",
      " 35  Review Scores Rating          491 non-null    object \n",
      " 36  Security Deposit              491 non-null    object \n",
      "dtypes: bool(5), float64(3), int64(10), object(19)\n",
      "memory usage: 125.3+ KB\n"
     ]
    }
   ],
   "source": [
    "listings_combined = listing_joined.fillna('')\n",
    "listings_combined.info()"
   ]
  },
  {
   "cell_type": "code",
   "execution_count": 35,
   "metadata": {},
   "outputs": [
    {
     "data": {
      "text/plain": [
       "491"
      ]
     },
     "execution_count": 35,
     "metadata": {},
     "output_type": "execute_result"
    }
   ],
   "source": [
    "listings_combined['Host Id'].count()"
   ]
  },
  {
   "cell_type": "code",
   "execution_count": 44,
   "metadata": {},
   "outputs": [
    {
     "data": {
      "text/plain": [
       "491"
      ]
     },
     "execution_count": 44,
     "metadata": {},
     "output_type": "execute_result"
    }
   ],
   "source": [
    "tables_combined['Listing Id'].nunique()"
   ]
  },
  {
   "cell_type": "code",
   "execution_count": 54,
   "metadata": {},
   "outputs": [
    {
     "data": {
      "text/plain": [
       "1/10/2020    279\n",
       "1/11/2020    275\n",
       "1/12/2020    300\n",
       "1/13/2020    307\n",
       "1/14/2020    314\n",
       "            ... \n",
       "9/5/2020     272\n",
       "9/6/2020     268\n",
       "9/7/2020     268\n",
       "9/8/2020     268\n",
       "9/9/2020     268\n",
       "Name: Date, Length: 365, dtype: int64"
      ]
     },
     "execution_count": 54,
     "metadata": {},
     "output_type": "execute_result"
    }
   ],
   "source": [
    "# Count of the numbers of listings availble during those days, Count if TRUE\n",
    "x = tables_combined.loc[tables_combined.Available == True]\n",
    "# x\n",
    "# pd.set_option('display.max_rows', 100)\n",
    "x.Date.value_counts().sort_index(axis=0)\n",
    "# Creating a new column called available_homes\n",
    "# tables_combined['Available_homes'] = x.Date.value_counts().sort_index(axis=0)"
   ]
  },
  {
   "cell_type": "code",
   "execution_count": 55,
   "metadata": {},
   "outputs": [],
   "source": [
    "# tables_combined.drop(columns='Available_homes',inplace=True)"
   ]
  },
  {
   "cell_type": "code",
   "execution_count": 78,
   "metadata": {},
   "outputs": [],
   "source": [
    "y = tables_combined.loc[tables_combined.Available == False]\n",
    "y2 = y.Date.value_counts().sort_index(axis=0)\n",
    "y3 = y2.to_frame()\n",
    "y3\n",
    "# tables_combined['Unavailable_homes'] = y3['Date']"
   ]
  },
  {
   "cell_type": "code",
   "execution_count": 81,
   "metadata": {},
   "outputs": [],
   "source": [
    "tables_combined.drop(columns=['Count_unavailable_homes','Unavailable_homes'],inplace=True)"
   ]
  },
  {
   "cell_type": "code",
   "execution_count": 82,
   "metadata": {},
   "outputs": [],
   "source": [
    "# Exporting into csv\n",
    "tables_combined.to_csv('tables_combined.csv',index=False)\n",
    "listings_combined.to_csv('listings_combined.csv',index=False)"
   ]
  },
  {
   "cell_type": "markdown",
   "metadata": {},
   "source": [
    "## Notes Section"
   ]
  },
  {
   "cell_type": "code",
   "execution_count": 13,
   "metadata": {},
   "outputs": [],
   "source": [
    "# listings_content.drop(columns=['host_picture_url','neighborhood_overview','host_listings_count','host_neighbourhood','neighbourhood_cleansed','neighbourhood_group_cleansed',\n",
    "#                               'city','state','country_code','country','latitude','longitude','is_location_exact','bed_type'],inplace=True)"
   ]
  },
  {
   "cell_type": "code",
   "execution_count": 14,
   "metadata": {},
   "outputs": [],
   "source": [
    "# listings_content.drop(columns=['host_id','host_url','host_since','host_total_listings_count','street','neighbourhood','square_feet','minimum_minimum_nights',\n",
    "#  'maximum_minimum_nights',\n",
    "#  'minimum_maximum_nights',\n",
    "#  'maximum_maximum_nights','smart_location'],inplace=True)"
   ]
  },
  {
   "cell_type": "code",
   "execution_count": 15,
   "metadata": {},
   "outputs": [],
   "source": [
    "# listings_content.drop(columns=['reviews_per_month','jurisdiction_names','requires_license','license','calculated_host_listings_count_shared_rooms','calculated_host_listings_count_private_rooms','calculated_host_listings_count_entire_homes'],inplace=True)"
   ]
  },
  {
   "cell_type": "code",
   "execution_count": 16,
   "metadata": {},
   "outputs": [],
   "source": [
    "# listings_content.drop(columns=['calculated_host_listings_count','first_review','last_review','number_of_reviews_ltm','calendar_last_scraped','availability_90','availability_60','availability_30','maximum_nights_avg_ntm','minimum_nights_avg_ntm'],inplace=True)"
   ]
  },
  {
   "cell_type": "code",
   "execution_count": 17,
   "metadata": {},
   "outputs": [],
   "source": [
    "# listings_content.drop(columns=['host_name','require_guest_profile_picture','require_guest_phone_verification'],inplace=True)"
   ]
  },
  {
   "cell_type": "code",
   "execution_count": 18,
   "metadata": {},
   "outputs": [],
   "source": [
    "# listings_content.drop(columns=['host_location','market','notes','zipcode','number_of_reviews','host_acceptance_rate','minimum_nights','maximum_nights'],inplace=True)"
   ]
  },
  {
   "cell_type": "code",
   "execution_count": 19,
   "metadata": {},
   "outputs": [],
   "source": [
    "# listings_content.drop(columns=['has_availability','calendar_updated'],inplace=True)"
   ]
  }
 ],
 "metadata": {
  "kernelspec": {
   "display_name": "Python 3",
   "language": "python",
   "name": "python3"
  },
  "language_info": {
   "codemirror_mode": {
    "name": "ipython",
    "version": 3
   },
   "file_extension": ".py",
   "mimetype": "text/x-python",
   "name": "python",
   "nbconvert_exporter": "python",
   "pygments_lexer": "ipython3",
   "version": "3.7.7"
  }
 },
 "nbformat": 4,
 "nbformat_minor": 4
}
